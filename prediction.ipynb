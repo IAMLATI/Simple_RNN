{
 "cells": [
  {
   "cell_type": "code",
   "execution_count": 1,
   "id": "17f95199",
   "metadata": {},
   "outputs": [],
   "source": [
    "import numpy as np\n",
    "import tensorflow as tf\n",
    "from tensorflow.keras.preprocessing import sequence\n",
    "from tensorflow.keras.models import Sequential\n",
    "from tensorflow.keras.datasets import imdb\n",
    "from tensorflow.keras.models import load_model\n",
    "from tensorflow.keras.layers import Embedding, SimpleRNN, Dense"
   ]
  },
  {
   "cell_type": "code",
   "execution_count": 2,
   "id": "34026f27",
   "metadata": {},
   "outputs": [],
   "source": [
    "word_index=imdb.get_word_index()\n",
    "reverse_word_index = {value : key for key, value in word_index.items()}\n"
   ]
  },
  {
   "cell_type": "code",
   "execution_count": 11,
   "id": "fe77beb0",
   "metadata": {},
   "outputs": [
    {
     "data": {
      "text/html": [
       "<pre style=\"white-space:pre;overflow-x:auto;line-height:normal;font-family:Menlo,'DejaVu Sans Mono',consolas,'Courier New',monospace\"><span style=\"font-weight: bold\">Model: \"sequential\"</span>\n",
       "</pre>\n"
      ],
      "text/plain": [
       "\u001b[1mModel: \"sequential\"\u001b[0m\n"
      ]
     },
     "metadata": {},
     "output_type": "display_data"
    },
    {
     "data": {
      "text/html": [
       "<pre style=\"white-space:pre;overflow-x:auto;line-height:normal;font-family:Menlo,'DejaVu Sans Mono',consolas,'Courier New',monospace\">┏━━━━━━━━━━━━━━━━━━━━━━━━━━━━━━━━━┳━━━━━━━━━━━━━━━━━━━━━━━━┳━━━━━━━━━━━━━━━┓\n",
       "┃<span style=\"font-weight: bold\"> Layer (type)                    </span>┃<span style=\"font-weight: bold\"> Output Shape           </span>┃<span style=\"font-weight: bold\">       Param # </span>┃\n",
       "┡━━━━━━━━━━━━━━━━━━━━━━━━━━━━━━━━━╇━━━━━━━━━━━━━━━━━━━━━━━━╇━━━━━━━━━━━━━━━┩\n",
       "│ embedding (<span style=\"color: #0087ff; text-decoration-color: #0087ff\">Embedding</span>)           │ (<span style=\"color: #00d7ff; text-decoration-color: #00d7ff\">None</span>, <span style=\"color: #00af00; text-decoration-color: #00af00\">500</span>, <span style=\"color: #00af00; text-decoration-color: #00af00\">128</span>)       │     <span style=\"color: #00af00; text-decoration-color: #00af00\">1,280,000</span> │\n",
       "├─────────────────────────────────┼────────────────────────┼───────────────┤\n",
       "│ simple_rnn (<span style=\"color: #0087ff; text-decoration-color: #0087ff\">SimpleRNN</span>)          │ (<span style=\"color: #00d7ff; text-decoration-color: #00d7ff\">None</span>, <span style=\"color: #00af00; text-decoration-color: #00af00\">128</span>)            │        <span style=\"color: #00af00; text-decoration-color: #00af00\">32,896</span> │\n",
       "├─────────────────────────────────┼────────────────────────┼───────────────┤\n",
       "│ dense (<span style=\"color: #0087ff; text-decoration-color: #0087ff\">Dense</span>)                   │ (<span style=\"color: #00d7ff; text-decoration-color: #00d7ff\">None</span>, <span style=\"color: #00af00; text-decoration-color: #00af00\">1</span>)              │           <span style=\"color: #00af00; text-decoration-color: #00af00\">129</span> │\n",
       "└─────────────────────────────────┴────────────────────────┴───────────────┘\n",
       "</pre>\n"
      ],
      "text/plain": [
       "┏━━━━━━━━━━━━━━━━━━━━━━━━━━━━━━━━━┳━━━━━━━━━━━━━━━━━━━━━━━━┳━━━━━━━━━━━━━━━┓\n",
       "┃\u001b[1m \u001b[0m\u001b[1mLayer (type)                   \u001b[0m\u001b[1m \u001b[0m┃\u001b[1m \u001b[0m\u001b[1mOutput Shape          \u001b[0m\u001b[1m \u001b[0m┃\u001b[1m \u001b[0m\u001b[1m      Param #\u001b[0m\u001b[1m \u001b[0m┃\n",
       "┡━━━━━━━━━━━━━━━━━━━━━━━━━━━━━━━━━╇━━━━━━━━━━━━━━━━━━━━━━━━╇━━━━━━━━━━━━━━━┩\n",
       "│ embedding (\u001b[38;5;33mEmbedding\u001b[0m)           │ (\u001b[38;5;45mNone\u001b[0m, \u001b[38;5;34m500\u001b[0m, \u001b[38;5;34m128\u001b[0m)       │     \u001b[38;5;34m1,280,000\u001b[0m │\n",
       "├─────────────────────────────────┼────────────────────────┼───────────────┤\n",
       "│ simple_rnn (\u001b[38;5;33mSimpleRNN\u001b[0m)          │ (\u001b[38;5;45mNone\u001b[0m, \u001b[38;5;34m128\u001b[0m)            │        \u001b[38;5;34m32,896\u001b[0m │\n",
       "├─────────────────────────────────┼────────────────────────┼───────────────┤\n",
       "│ dense (\u001b[38;5;33mDense\u001b[0m)                   │ (\u001b[38;5;45mNone\u001b[0m, \u001b[38;5;34m1\u001b[0m)              │           \u001b[38;5;34m129\u001b[0m │\n",
       "└─────────────────────────────────┴────────────────────────┴───────────────┘\n"
      ]
     },
     "metadata": {},
     "output_type": "display_data"
    },
    {
     "data": {
      "text/html": [
       "<pre style=\"white-space:pre;overflow-x:auto;line-height:normal;font-family:Menlo,'DejaVu Sans Mono',consolas,'Courier New',monospace\"><span style=\"font-weight: bold\"> Total params: </span><span style=\"color: #00af00; text-decoration-color: #00af00\">3,939,077</span> (15.03 MB)\n",
       "</pre>\n"
      ],
      "text/plain": [
       "\u001b[1m Total params: \u001b[0m\u001b[38;5;34m3,939,077\u001b[0m (15.03 MB)\n"
      ]
     },
     "metadata": {},
     "output_type": "display_data"
    },
    {
     "data": {
      "text/html": [
       "<pre style=\"white-space:pre;overflow-x:auto;line-height:normal;font-family:Menlo,'DejaVu Sans Mono',consolas,'Courier New',monospace\"><span style=\"font-weight: bold\"> Trainable params: </span><span style=\"color: #00af00; text-decoration-color: #00af00\">1,313,025</span> (5.01 MB)\n",
       "</pre>\n"
      ],
      "text/plain": [
       "\u001b[1m Trainable params: \u001b[0m\u001b[38;5;34m1,313,025\u001b[0m (5.01 MB)\n"
      ]
     },
     "metadata": {},
     "output_type": "display_data"
    },
    {
     "data": {
      "text/html": [
       "<pre style=\"white-space:pre;overflow-x:auto;line-height:normal;font-family:Menlo,'DejaVu Sans Mono',consolas,'Courier New',monospace\"><span style=\"font-weight: bold\"> Non-trainable params: </span><span style=\"color: #00af00; text-decoration-color: #00af00\">0</span> (0.00 B)\n",
       "</pre>\n"
      ],
      "text/plain": [
       "\u001b[1m Non-trainable params: \u001b[0m\u001b[38;5;34m0\u001b[0m (0.00 B)\n"
      ]
     },
     "metadata": {},
     "output_type": "display_data"
    },
    {
     "data": {
      "text/html": [
       "<pre style=\"white-space:pre;overflow-x:auto;line-height:normal;font-family:Menlo,'DejaVu Sans Mono',consolas,'Courier New',monospace\"><span style=\"font-weight: bold\"> Optimizer params: </span><span style=\"color: #00af00; text-decoration-color: #00af00\">2,626,052</span> (10.02 MB)\n",
       "</pre>\n"
      ],
      "text/plain": [
       "\u001b[1m Optimizer params: \u001b[0m\u001b[38;5;34m2,626,052\u001b[0m (10.02 MB)\n"
      ]
     },
     "metadata": {},
     "output_type": "display_data"
    }
   ],
   "source": [
    "model=load_model('Simple_rnn_imdb.keras')\n",
    "model.summary()"
   ]
  },
  {
   "cell_type": "code",
   "execution_count": 12,
   "id": "c96a1fc5",
   "metadata": {},
   "outputs": [
    {
     "data": {
      "text/plain": [
       "[array([[ 0.9092241 , -0.39186558, -0.6083384 , ..., -0.15440524,\n",
       "          0.5168681 ,  0.3376497 ],\n",
       "        [ 0.05499206,  0.00615139, -0.03063493, ...,  0.01081783,\n",
       "          0.01529345,  0.03805457],\n",
       "        [ 0.16610366, -0.08470584, -0.09167676, ..., -0.09196869,\n",
       "          0.1554297 ,  0.12450024],\n",
       "        ...,\n",
       "        [ 0.02903736, -0.01625689, -0.02049362, ..., -0.11468591,\n",
       "          0.08430936,  0.0662334 ],\n",
       "        [ 0.00716356, -0.0499397 , -0.02076   , ..., -0.02220477,\n",
       "         -0.03562159, -0.00989604],\n",
       "        [ 0.10003141, -0.05172711, -0.04602021, ..., -0.07617481,\n",
       "         -0.02704451, -0.13316506]], dtype=float32),\n",
       " array([[ 0.14688185,  0.04636545, -0.15710932, ..., -0.07086805,\n",
       "         -0.04904822,  0.06720827],\n",
       "        [ 0.04383541,  0.08342452,  0.12117285, ...,  0.02818192,\n",
       "         -0.04210913,  0.19718643],\n",
       "        [ 0.05667552,  0.12229872,  0.17468333, ..., -0.06270389,\n",
       "          0.19718699, -0.12821172],\n",
       "        ...,\n",
       "        [ 0.08717772, -0.01867062,  0.03119568, ...,  0.03789829,\n",
       "         -0.07816727,  0.09839153],\n",
       "        [ 0.09641934, -0.0542163 ,  0.00451745, ...,  0.10874714,\n",
       "          0.13066204, -0.02230227],\n",
       "        [ 0.12419923, -0.11467924,  0.02847499, ..., -0.01769685,\n",
       "          0.0546021 , -0.0816023 ]], dtype=float32),\n",
       " array([[-0.00922956, -0.06616312, -0.03728579, ..., -0.26357597,\n",
       "         -0.06723437, -0.0184528 ],\n",
       "        [-0.03340435, -0.279888  , -0.05671798, ..., -0.10805205,\n",
       "          0.01914391, -0.02820541],\n",
       "        [-0.0661208 ,  0.06111402,  0.06798761, ...,  0.00486497,\n",
       "          0.07870929, -0.12255649],\n",
       "        ...,\n",
       "        [-0.11699045, -0.08247528,  0.0252585 , ..., -0.03977845,\n",
       "          0.03906169, -0.03030285],\n",
       "        [-0.09166604, -0.00589017, -0.06525663, ..., -0.03335266,\n",
       "         -0.032825  ,  0.10448696],\n",
       "        [-0.01290863, -0.05647554, -0.07529214, ...,  0.02876198,\n",
       "          0.07640805, -0.03619279]], dtype=float32),\n",
       " array([-0.01928199, -0.05239434, -0.01968457, -0.037739  , -0.01036699,\n",
       "        -0.01247041, -0.01429018,  0.04036   , -0.01065691,  0.02773765,\n",
       "         0.01152288,  0.0386964 , -0.04506626,  0.02600651, -0.02403009,\n",
       "         0.00870331,  0.02983102, -0.02541872, -0.03679058,  0.0187814 ,\n",
       "         0.02031622,  0.02125243, -0.03827767,  0.0143776 ,  0.00466611,\n",
       "         0.04311195, -0.00038473,  0.028013  ,  0.01014681,  0.03007646,\n",
       "        -0.03137331,  0.01643224,  0.01783129, -0.00419261,  0.0040831 ,\n",
       "        -0.03358009, -0.03464148, -0.05279653, -0.02852626, -0.04706262,\n",
       "         0.01884354, -0.00811343, -0.02677099,  0.04135465,  0.01698543,\n",
       "        -0.0286811 , -0.04265241, -0.01072434, -0.03435183, -0.01057899,\n",
       "         0.01366651, -0.01309291, -0.02697844, -0.03117934,  0.02301231,\n",
       "        -0.00969007,  0.00032834, -0.03204257,  0.02219258, -0.04446507,\n",
       "        -0.0300917 ,  0.07207472,  0.02321495, -0.01246301, -0.02883093,\n",
       "         0.02061126, -0.00503658, -0.03967914,  0.00883115,  0.00549344,\n",
       "        -0.02866083, -0.02024801,  0.02336094, -0.01420074, -0.02682694,\n",
       "        -0.01175044, -0.04710807, -0.01008236,  0.02299061, -0.00150966,\n",
       "        -0.01758755,  0.03350973, -0.00167194,  0.0125809 , -0.03189184,\n",
       "         0.01323678,  0.03350163, -0.00935003, -0.03933346, -0.02645879,\n",
       "        -0.0323095 ,  0.02579339, -0.01156788, -0.00421403, -0.03776599,\n",
       "         0.03798052, -0.05481583, -0.03189311, -0.03144576,  0.03181341,\n",
       "         0.01550714, -0.00202906, -0.02988379,  0.02618454,  0.00307727,\n",
       "        -0.0356033 ,  0.00095333,  0.02380521, -0.01000649, -0.01124279,\n",
       "        -0.00543213,  0.04157685, -0.01673667, -0.01588511,  0.02275288,\n",
       "         0.01798487,  0.01707471, -0.05058105, -0.02708459,  0.01997519,\n",
       "        -0.01451313, -0.02894531,  0.01988945,  0.01133456, -0.03782621,\n",
       "         0.00106284, -0.03375988,  0.02383992], dtype=float32),\n",
       " array([[-0.04084609],\n",
       "        [-0.00565104],\n",
       "        [-0.16480172],\n",
       "        [ 0.5908945 ],\n",
       "        [ 0.18298243],\n",
       "        [-0.6842232 ],\n",
       "        [-0.08262571],\n",
       "        [ 0.00500066],\n",
       "        [-0.20404823],\n",
       "        [ 0.19202878],\n",
       "        [-0.11963317],\n",
       "        [ 0.1018632 ],\n",
       "        [ 0.13659152],\n",
       "        [-0.02271163],\n",
       "        [ 0.10822608],\n",
       "        [ 0.19568929],\n",
       "        [-0.16830187],\n",
       "        [-0.00218074],\n",
       "        [-0.06809065],\n",
       "        [ 0.06560577],\n",
       "        [ 0.16086873],\n",
       "        [ 0.21045683],\n",
       "        [ 0.11687765],\n",
       "        [-0.18808769],\n",
       "        [ 0.10889585],\n",
       "        [-0.1554593 ],\n",
       "        [ 0.13376197],\n",
       "        [ 0.20085704],\n",
       "        [ 0.09839791],\n",
       "        [-0.06831881],\n",
       "        [-0.05282936],\n",
       "        [-0.21067612],\n",
       "        [ 0.17933382],\n",
       "        [ 0.04819727],\n",
       "        [-0.00206274],\n",
       "        [-0.15849303],\n",
       "        [ 0.00430639],\n",
       "        [ 0.00134844],\n",
       "        [-0.19875045],\n",
       "        [ 0.0490351 ],\n",
       "        [ 0.10155914],\n",
       "        [ 0.01145125],\n",
       "        [-0.1375273 ],\n",
       "        [-0.80640227],\n",
       "        [ 0.12549487],\n",
       "        [-0.09337205],\n",
       "        [ 0.19667362],\n",
       "        [ 0.20714524],\n",
       "        [-0.13625453],\n",
       "        [-0.01794735],\n",
       "        [ 0.19208933],\n",
       "        [-0.27875865],\n",
       "        [ 0.19144943],\n",
       "        [-0.1641211 ],\n",
       "        [-0.03022505],\n",
       "        [-0.2820501 ],\n",
       "        [ 0.22404228],\n",
       "        [-0.04324846],\n",
       "        [ 0.23737092],\n",
       "        [ 0.1030617 ],\n",
       "        [ 0.19851981],\n",
       "        [-0.02810473],\n",
       "        [ 0.06627654],\n",
       "        [-0.06846026],\n",
       "        [-0.02731947],\n",
       "        [ 0.21617559],\n",
       "        [-0.06774714],\n",
       "        [-0.08652944],\n",
       "        [-0.01743243],\n",
       "        [ 0.07744978],\n",
       "        [-0.15957187],\n",
       "        [ 0.09516596],\n",
       "        [ 0.02334677],\n",
       "        [-0.16825852],\n",
       "        [ 0.16166274],\n",
       "        [ 0.24390954],\n",
       "        [-0.19169697],\n",
       "        [-0.11152617],\n",
       "        [-0.08703949],\n",
       "        [ 0.17516823],\n",
       "        [-0.18424837],\n",
       "        [ 0.21356617],\n",
       "        [ 0.23404825],\n",
       "        [ 0.08149844],\n",
       "        [ 0.15382491],\n",
       "        [-0.00554657],\n",
       "        [ 0.17839426],\n",
       "        [-0.16444694],\n",
       "        [-0.07477406],\n",
       "        [-0.19032471],\n",
       "        [ 0.05478397],\n",
       "        [ 0.24436013],\n",
       "        [-0.07564875],\n",
       "        [-0.13409187],\n",
       "        [ 0.1366993 ],\n",
       "        [ 0.27913564],\n",
       "        [ 0.19096093],\n",
       "        [ 0.03617015],\n",
       "        [-0.16563033],\n",
       "        [-0.02599165],\n",
       "        [ 0.11079674],\n",
       "        [ 0.12484678],\n",
       "        [-0.18225692],\n",
       "        [ 0.17200056],\n",
       "        [-0.26038837],\n",
       "        [-0.12170499],\n",
       "        [ 0.23918496],\n",
       "        [ 0.15477967],\n",
       "        [-0.20289905],\n",
       "        [ 0.16838259],\n",
       "        [-0.08809897],\n",
       "        [-0.212067  ],\n",
       "        [ 0.17483294],\n",
       "        [ 0.03491277],\n",
       "        [-0.12448877],\n",
       "        [-0.16929169],\n",
       "        [-0.6664772 ],\n",
       "        [ 0.332384  ],\n",
       "        [-0.07561248],\n",
       "        [ 0.17106603],\n",
       "        [ 0.13140853],\n",
       "        [-0.18532634],\n",
       "        [ 0.21513611],\n",
       "        [-0.5582348 ],\n",
       "        [-0.09811849],\n",
       "        [-0.08822256],\n",
       "        [-0.11478597],\n",
       "        [-0.11327228]], dtype=float32),\n",
       " array([0.00188483], dtype=float32)]"
      ]
     },
     "execution_count": 12,
     "metadata": {},
     "output_type": "execute_result"
    }
   ],
   "source": [
    "model.get_weights()"
   ]
  },
  {
   "cell_type": "code",
   "execution_count": 13,
   "id": "92321893",
   "metadata": {},
   "outputs": [],
   "source": [
    "#help function/ to decode review\n",
    "\n",
    "def decode_review(encoded_review):\n",
    "    return ' '.join([reverse_word_index.get(i-3, \"?\") for i in encoded_review])\n",
    "\n",
    "def preprocess_text(text):\n",
    "    words = text.lower().split()\n",
    "    encoded_review=[word_index.get(word, 2)+ 3 for word in words]\n",
    "    padded_review = sequence.pad_sequences([encoded_review], maxlen=500)\n",
    "    return padded_review"
   ]
  },
  {
   "cell_type": "code",
   "execution_count": 14,
   "id": "34cafcde",
   "metadata": {},
   "outputs": [],
   "source": [
    "#prediction function\n",
    "\n",
    "def predict_sentiment(review):\n",
    "    preprocessed_input=preprocess_text(review)\n",
    "\n",
    "    prediction = model.predict(preprocessed_input)\n",
    "\n",
    "    sentiment =\"Postive\" if prediction[0][0]> 0.5 else 'Negative'\n",
    "\n",
    "    return sentiment, prediction[0][0]"
   ]
  },
  {
   "cell_type": "code",
   "execution_count": 15,
   "id": "08a82089",
   "metadata": {},
   "outputs": [
    {
     "name": "stdout",
     "output_type": "stream",
     "text": [
      "\u001b[1m1/1\u001b[0m \u001b[32m━━━━━━━━━━━━━━━━━━━━\u001b[0m\u001b[37m\u001b[0m \u001b[1m1s\u001b[0m 1s/step\n",
      "Review:This movie was fantastic! The acting was great and the plot was thrilling\n",
      "Sentiment:Postive\n",
      "Predicted_Score:0.8362745046615601\n"
     ]
    }
   ],
   "source": [
    "example_review='This movie was fantastic! The acting was great and the plot was thrilling'\n",
    "\n",
    "sentiment, score= predict_sentiment(example_review)\n",
    "\n",
    "print(f'Review:{example_review}')\n",
    "print(f'Sentiment:{sentiment}')\n",
    "print(f'Predicted_Score:{score}')"
   ]
  }
 ],
 "metadata": {
  "kernelspec": {
   "display_name": "Python 3",
   "language": "python",
   "name": "python3"
  },
  "language_info": {
   "codemirror_mode": {
    "name": "ipython",
    "version": 3
   },
   "file_extension": ".py",
   "mimetype": "text/x-python",
   "name": "python",
   "nbconvert_exporter": "python",
   "pygments_lexer": "ipython3",
   "version": "3.12.11"
  }
 },
 "nbformat": 4,
 "nbformat_minor": 5
}
